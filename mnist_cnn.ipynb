{
  "nbformat": 4,
  "nbformat_minor": 0,
  "metadata": {
    "colab": {
      "name": "mnist cnn.ipynb",
      "provenance": [],
      "collapsed_sections": []
    },
    "kernelspec": {
      "name": "python3",
      "display_name": "Python 3"
    },
    "accelerator": "GPU"
  },
  "cells": [
    {
      "cell_type": "code",
      "metadata": {
        "id": "tMFVNmD-5mLU",
        "colab_type": "code",
        "colab": {}
      },
      "source": [
        "import keras\n",
        "from keras.datasets import mnist\n",
        "from keras.models import Sequential\n",
        "from keras.layers import Dense, Dropout, Flatten\n",
        "from keras.layers import Conv2D, MaxPooling2D\n",
        "from keras import backend as K"
      ],
      "execution_count": 0,
      "outputs": []
    },
    {
      "cell_type": "code",
      "metadata": {
        "id": "kg6mg5zi5pKM",
        "colab_type": "code",
        "colab": {}
      },
      "source": [
        "\n",
        "batch_size = 128\n",
        "num_classes = 10\n",
        "epochs = 20"
      ],
      "execution_count": 0,
      "outputs": []
    },
    {
      "cell_type": "code",
      "metadata": {
        "id": "J2ZN4ubu5r93",
        "colab_type": "code",
        "colab": {}
      },
      "source": [
        "img_rows, img_cols = 28, 28\n",
        "\n",
        "\n",
        "\n",
        "(x_train, y_train), (x_test, y_test) = mnist.load_data()"
      ],
      "execution_count": 0,
      "outputs": []
    },
    {
      "cell_type": "code",
      "metadata": {
        "id": "hRTqHMnD5u23",
        "colab_type": "code",
        "colab": {}
      },
      "source": [
        "if K.image_data_format() == 'channels_first':\n",
        "    x_train = x_train.reshape(x_train.shape[0], 1, img_rows, img_cols)\n",
        "    x_test = x_test.reshape(x_test.shape[0], 1, img_rows, img_cols)\n",
        "    input_shape = (1, img_rows, img_cols)\n",
        "else:\n",
        "    x_train = x_train.reshape(x_train.shape[0], img_rows, img_cols, 1)\n",
        "    x_test = x_test.reshape(x_test.shape[0], img_rows, img_cols, 1)\n",
        "    input_shape = (img_rows, img_cols, 1)"
      ],
      "execution_count": 0,
      "outputs": []
    },
    {
      "cell_type": "code",
      "metadata": {
        "id": "2Z57rQMq5x19",
        "colab_type": "code",
        "colab": {
          "base_uri": "https://localhost:8080/",
          "height": 72
        },
        "outputId": "7591265c-8b90-4580-e0cd-05919122f3d4"
      },
      "source": [
        "x_train = x_train.astype('float32')\n",
        "x_test = x_test.astype('float32')\n",
        "x_train /= 255\n",
        "x_test /= 255\n",
        "print('x_train shape:', x_train.shape)\n",
        "print(x_train.shape[0], 'train samples')\n",
        "print(x_test.shape[0], 'test samples')"
      ],
      "execution_count": 25,
      "outputs": [
        {
          "output_type": "stream",
          "text": [
            "x_train shape: (60000, 28, 28, 1)\n",
            "60000 train samples\n",
            "10000 test samples\n"
          ],
          "name": "stdout"
        }
      ]
    },
    {
      "cell_type": "code",
      "metadata": {
        "id": "dRdbNyVz50z5",
        "colab_type": "code",
        "colab": {}
      },
      "source": [
        "y_train = keras.utils.to_categorical(y_train, num_classes)\n",
        "y_test = keras.utils.to_categorical(y_test, num_classes)"
      ],
      "execution_count": 0,
      "outputs": []
    },
    {
      "cell_type": "code",
      "metadata": {
        "id": "MCNi_BVJ53eq",
        "colab_type": "code",
        "colab": {}
      },
      "source": [
        "model = Sequential()\n",
        "model.add(Conv2D(32, kernel_size=(3, 3),activation='relu',input_shape=input_shape))\n",
        "model.add(Conv2D(64, (3, 3), activation='relu'))\n",
        "model.add(MaxPooling2D(pool_size=(2, 2)))\n",
        "model.add(Dropout(0.25))\n",
        "model.add(Flatten())\n",
        "model.add(Dense(128, activation='relu'))\n",
        "model.add(Dropout(0.5))\n",
        "model.add(Dense(num_classes, activation='softmax'))"
      ],
      "execution_count": 0,
      "outputs": []
    },
    {
      "cell_type": "code",
      "metadata": {
        "id": "1sWQg21M5889",
        "colab_type": "code",
        "colab": {}
      },
      "source": [
        "model.compile(loss=keras.losses.categorical_crossentropy,\n",
        "              optimizer=keras.optimizers.Adadelta(),\n",
        "              metrics=['accuracy'])"
      ],
      "execution_count": 0,
      "outputs": []
    },
    {
      "cell_type": "code",
      "metadata": {
        "id": "6fFdasBY5_-5",
        "colab_type": "code",
        "colab": {
          "base_uri": "https://localhost:8080/",
          "height": 793
        },
        "outputId": "f7d7fe4e-c0da-40b3-be72-b1901bc54273"
      },
      "source": [
        "model.fit(x_train, y_train,\n",
        "          batch_size=batch_size,\n",
        "          epochs=epochs,\n",
        "          verbose=1,\n",
        "          validation_data=(x_test, y_test))"
      ],
      "execution_count": 29,
      "outputs": [
        {
          "output_type": "stream",
          "text": [
            "Train on 60000 samples, validate on 10000 samples\n",
            "Epoch 1/20\n",
            "60000/60000 [==============================] - 5s 82us/step - loss: 0.2664 - accuracy: 0.9191 - val_loss: 0.0565 - val_accuracy: 0.9813\n",
            "Epoch 2/20\n",
            "60000/60000 [==============================] - 5s 79us/step - loss: 0.0887 - accuracy: 0.9739 - val_loss: 0.0399 - val_accuracy: 0.9871\n",
            "Epoch 3/20\n",
            "60000/60000 [==============================] - 5s 79us/step - loss: 0.0677 - accuracy: 0.9801 - val_loss: 0.0382 - val_accuracy: 0.9873\n",
            "Epoch 4/20\n",
            "60000/60000 [==============================] - 5s 79us/step - loss: 0.0554 - accuracy: 0.9835 - val_loss: 0.0343 - val_accuracy: 0.9883\n",
            "Epoch 5/20\n",
            "60000/60000 [==============================] - 5s 79us/step - loss: 0.0474 - accuracy: 0.9860 - val_loss: 0.0309 - val_accuracy: 0.9896\n",
            "Epoch 6/20\n",
            "60000/60000 [==============================] - 5s 78us/step - loss: 0.0403 - accuracy: 0.9881 - val_loss: 0.0278 - val_accuracy: 0.9907\n",
            "Epoch 7/20\n",
            "60000/60000 [==============================] - 5s 78us/step - loss: 0.0372 - accuracy: 0.9886 - val_loss: 0.0262 - val_accuracy: 0.9916\n",
            "Epoch 8/20\n",
            "60000/60000 [==============================] - 5s 79us/step - loss: 0.0337 - accuracy: 0.9895 - val_loss: 0.0282 - val_accuracy: 0.9907\n",
            "Epoch 9/20\n",
            "60000/60000 [==============================] - 5s 79us/step - loss: 0.0322 - accuracy: 0.9904 - val_loss: 0.0310 - val_accuracy: 0.9902\n",
            "Epoch 10/20\n",
            "60000/60000 [==============================] - 5s 78us/step - loss: 0.0298 - accuracy: 0.9906 - val_loss: 0.0303 - val_accuracy: 0.9908\n",
            "Epoch 11/20\n",
            "60000/60000 [==============================] - 5s 79us/step - loss: 0.0275 - accuracy: 0.9916 - val_loss: 0.0263 - val_accuracy: 0.9921\n",
            "Epoch 12/20\n",
            "60000/60000 [==============================] - 5s 80us/step - loss: 0.0255 - accuracy: 0.9922 - val_loss: 0.0309 - val_accuracy: 0.9903\n",
            "Epoch 13/20\n",
            "60000/60000 [==============================] - 5s 79us/step - loss: 0.0234 - accuracy: 0.9930 - val_loss: 0.0280 - val_accuracy: 0.9918\n",
            "Epoch 14/20\n",
            "60000/60000 [==============================] - 5s 77us/step - loss: 0.0234 - accuracy: 0.9926 - val_loss: 0.0268 - val_accuracy: 0.9920\n",
            "Epoch 15/20\n",
            "60000/60000 [==============================] - 5s 78us/step - loss: 0.0222 - accuracy: 0.9934 - val_loss: 0.0267 - val_accuracy: 0.9926\n",
            "Epoch 16/20\n",
            "60000/60000 [==============================] - 5s 77us/step - loss: 0.0223 - accuracy: 0.9927 - val_loss: 0.0252 - val_accuracy: 0.9920\n",
            "Epoch 17/20\n",
            "60000/60000 [==============================] - 5s 77us/step - loss: 0.0199 - accuracy: 0.9933 - val_loss: 0.0307 - val_accuracy: 0.9912\n",
            "Epoch 18/20\n",
            "60000/60000 [==============================] - 5s 78us/step - loss: 0.0207 - accuracy: 0.9932 - val_loss: 0.0259 - val_accuracy: 0.9920\n",
            "Epoch 19/20\n",
            "60000/60000 [==============================] - 5s 78us/step - loss: 0.0193 - accuracy: 0.9939 - val_loss: 0.0284 - val_accuracy: 0.9926\n",
            "Epoch 20/20\n",
            "60000/60000 [==============================] - 5s 78us/step - loss: 0.0197 - accuracy: 0.9937 - val_loss: 0.0269 - val_accuracy: 0.9923\n"
          ],
          "name": "stdout"
        },
        {
          "output_type": "execute_result",
          "data": {
            "text/plain": [
              "<keras.callbacks.callbacks.History at 0x7fa719e98fd0>"
            ]
          },
          "metadata": {
            "tags": []
          },
          "execution_count": 29
        }
      ]
    },
    {
      "cell_type": "code",
      "metadata": {
        "id": "1Di0iDCF6DJz",
        "colab_type": "code",
        "colab": {
          "base_uri": "https://localhost:8080/",
          "height": 54
        },
        "outputId": "568e0517-d67b-47ba-820a-28b0b117ccd9"
      },
      "source": [
        "score = model.evaluate(x_test, y_test, verbose=0)\n",
        "print('Test loss:', score[0])\n",
        "print('Test accuracy:', score[1])"
      ],
      "execution_count": 30,
      "outputs": [
        {
          "output_type": "stream",
          "text": [
            "Test loss: 0.026931399618185286\n",
            "Test accuracy: 0.9922999739646912\n"
          ],
          "name": "stdout"
        }
      ]
    },
    {
      "cell_type": "code",
      "metadata": {
        "id": "hm8xFAjH6o8u",
        "colab_type": "code",
        "colab": {}
      },
      "source": [
        "\n"
      ],
      "execution_count": 0,
      "outputs": []
    },
    {
      "cell_type": "code",
      "metadata": {
        "id": "NGM6K0T0-3HT",
        "colab_type": "code",
        "colab": {}
      },
      "source": [
        ""
      ],
      "execution_count": 0,
      "outputs": []
    }
  ]
}